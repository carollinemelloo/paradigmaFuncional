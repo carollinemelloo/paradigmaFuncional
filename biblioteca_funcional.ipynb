{
 "cells": [
  {
   "cell_type": "markdown",
   "metadata": {},
   "source": [
    "# Sistema de Gerenciamento de Biblioteca\n",
    "\n",
    "Este notebook apresenta um sistema de gerenciamento de bibliotecas implementado com foco no **paradigma funcional** usando Python.\n",
    "\n",
    "### Características abordadas:\n",
    "- Imutabilidade de dados\n",
    "- Funções puras\n",
    "- Uso de `map`, `filter`, `reduce`\n",
    "- Expressões `lambda`\n",
    "- Recursão como alternativa a loops\n"
   ]
  },
  {
   "cell_type": "code",
   "execution_count": 1,
   "metadata": {},
   "outputs": [],
   "source": [
    "from functools import reduce\n",
    "from typing import List, Dict\n",
    "\n",
    "\n",
    "livros = [\n",
    "    {\"id\": 1, \"titulo\": \"1984\", \"autor\": \"George Orwell\", \"disponivel\": True},\n",
    "    {\"id\": 2, \"titulo\": \"Admirável Mundo Novo\", \"autor\": \"Aldous Huxley\", \"disponivel\": True},\n",
    "    {\"id\": 3, \"titulo\": \"Fahrenheit 451\", \"autor\": \"Ray Bradbury\", \"disponivel\": False},\n",
    "]\n",
    "\n",
    "usuarios = [\n",
    "    {\"id\": 1, \"nome\": \"Ana\", \"livros_emprestados\": []},\n",
    "    {\"id\": 2, \"nome\": \"Carlos\", \"livros_emprestados\": [3]},\n",
    "]"
   ]
  },
  {
   "cell_type": "markdown",
   "metadata": {},
   "source": [
    "## Função para buscar livros disponíveis\n",
    "Utilizando `filter` e `lambda` para encontrar apenas os livros que estão disponíveis."
   ]
  },
  {
   "cell_type": "code",
   "execution_count": null,
   "metadata": {},
   "outputs": [],
   "source": [
    "def buscar_livros_disponiveis(livros: List[Dict]) -> List[Dict]:\n",
    "    return list(filter(lambda livro: livro[\"disponivel\"], livros))\n",
    "\n",
    "buscar_livros_disponiveis(livros)"
   ]
  },
  {
   "cell_type": "markdown",
   "metadata": {},
   "source": [
    "## Map para listar títulos dos livros disponíveis"
   ]
  },
  {
   "cell_type": "code",
   "execution_count": null,
   "metadata": {},
   "outputs": [],
   "source": [
    "def listar_titulos_disponiveis(livros: List[Dict]) -> List[str]:\n",
    "    livros_disp = buscar_livros_disponiveis(livros)\n",
    "    return list(map(lambda livro: livro[\"titulo\"], livros_disp))\n",
    "\n",
    "listar_titulos_disponiveis(livros)"
   ]
  },
  {
   "cell_type": "markdown",
   "metadata": {},
   "source": [
    "## Emprestar livro (Função pura)\n",
    "Retorna uma nova lista de usuários com o livro emprestado, sem modificar o original."
   ]
  },
  {
   "cell_type": "code",
   "execution_count": null,
   "metadata": {},
   "outputs": [],
   "source": [
    "def emprestar_livro(usuarios: List[Dict], id_usuario: int, id_livro: int) -> List[Dict]:\n",
    "    return list(map(\n",
    "        lambda user: user if user[\"id\"] != id_usuario else {\n",
    "            **user,\n",
    "            \"livros_emprestados\": user[\"livros_emprestados\"] + [id_livro]\n",
    "        },\n",
    "        usuarios\n",
    "    ))\n",
    "\n",
    "usuarios = emprestar_livro(usuarios, 1, 1)\n",
    "usuarios"
   ]
  },
  {
   "cell_type": "markdown",
   "metadata": {},
   "source": [
    "## Reduce para contar o total de livros emprestados"
   ]
  },
  {
   "cell_type": "code",
   "execution_count": null,
   "metadata": {},
   "outputs": [],
   "source": [
    "def total_livros_emprestados(usuarios: List[Dict]) -> int:\n",
    "    return reduce(lambda acc, user: acc + len(user[\"livros_emprestados\"]), usuarios, 0)\n",
    "\n",
    "total_livros_emprestados(usuarios)"
   ]
  },
  {
   "cell_type": "markdown",
   "metadata": {},
   "source": [
    "## Recursão para verificar se todos os livros estão emprestados"
   ]
  },
  {
   "cell_type": "code",
   "execution_count": null,
   "metadata": {},
   "outputs": [],
   "source": [
    "def todos_emprestados(livros: List[Dict]) -> bool:\n",
    "    if not livros:\n",
    "        return True\n",
    "    if livros[0][\"disponivel\"]:\n",
    "        return False\n",
    "    return todos_emprestados(livros[1:])\n",
    "\n",
    "todos_emprestados(livros)"
   ]
  }
 ],
 "metadata": {
  "kernelspec": {
   "display_name": "Python 3",
   "language": "python",
   "name": "python3"
  },
  "language_info": {
   "codemirror_mode": {
    "name": "ipython",
    "version": 3
   },
   "file_extension": ".py",
   "mimetype": "text/x-python",
   "name": "python",
   "nbconvert_exporter": "python",
   "pygments_lexer": "ipython3",
   "version": "3.13.2"
  }
 },
 "nbformat": 4,
 "nbformat_minor": 5
}
